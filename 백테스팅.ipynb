{
 "cells": [
  {
   "cell_type": "code",
   "execution_count": 1,
   "metadata": {},
   "outputs": [],
   "source": [
    "import yfinance as yf\n",
    "import pandas as pd\n",
    "from datetime import datetime\n",
    "import numpy as np\n",
    "\n",
    "selected_data=pd.read_csv('selected_data.csv')"
   ]
  },
  {
   "cell_type": "code",
   "execution_count": 2,
   "metadata": {},
   "outputs": [],
   "source": [
    "# 1. 향후 1년간의 주가 데이터 가져오기 (2021년 데이터)\n",
    "tickers = selected_data.columns[1:]  # 'Date' 열을 제외한 티커 목록\n",
    "start_date = \"2021-01-01\"\n",
    "end_date = \"2021-12-31\""
   ]
  },
  {
   "cell_type": "code",
   "execution_count": 3,
   "metadata": {},
   "outputs": [
    {
     "name": "stderr",
     "output_type": "stream",
     "text": [
      "[*********************100%%**********************]  91 of 91 completed\n"
     ]
    }
   ],
   "source": [
    "# 각 티커에 대한 데이터 다운로드\n",
    "future_data = yf.download(tickers=list(tickers), start=start_date, end=end_date)['Adj Close']"
   ]
  },
  {
   "cell_type": "code",
   "execution_count": 4,
   "metadata": {},
   "outputs": [],
   "source": [
    "# 2021년 첫 거래일의 주가\n",
    "first_price_2021 = future_data.loc['2021-01-04']"
   ]
  },
  {
   "cell_type": "code",
   "execution_count": 5,
   "metadata": {},
   "outputs": [
    {
     "name": "stdout",
     "output_type": "stream",
     "text": [
      "Annual returns for 2021:\n",
      " Ticker\n",
      "ABBV    35.138933\n",
      "ABT     31.224877\n",
      "ACN     63.356916\n",
      "ADP     48.096901\n",
      "AEP     12.673526\n",
      "          ...    \n",
      "WELL    43.916758\n",
      "WFC     64.159872\n",
      "WM      46.669452\n",
      "WMB     37.378913\n",
      "XOM     55.489256\n",
      "Length: 91, dtype: float64\n"
     ]
    }
   ],
   "source": [
    "# 2021년 마지막 거래일의 주가\n",
    "last_price_2021 = future_data.loc['2021-12-30']\n",
    "\n",
    "# 3. 연간 수익률 계산\n",
    "annual_returns = (last_price_2021 - first_price_2021) / first_price_2021 * 100\n",
    "\n",
    "# 결과 출력\n",
    "print(\"Annual returns for 2021:\\n\", annual_returns)"
   ]
  },
  {
   "cell_type": "code",
   "execution_count": 6,
   "metadata": {},
   "outputs": [
    {
     "name": "stdout",
     "output_type": "stream",
     "text": [
      "Average annual return for 2021: 39.13046110646251 %\n"
     ]
    }
   ],
   "source": [
    "# 모든 종목들의 평균 연간 수익률 계산\n",
    "average_annual_return = annual_returns.mean()\n",
    "\n",
    "# 결과 출력\n",
    "print(\"Average annual return for 2021:\", average_annual_return, \"%\")"
   ]
  },
  {
   "cell_type": "markdown",
   "metadata": {},
   "source": [
    "### (매출성장률과 eps성장률이 low) 종목의 평균수익률 38%\n",
    "\n",
    "### (매출성장률과 eps성장률이 high) 종목의 평균수익률 39%"
   ]
  },
  {
   "cell_type": "markdown",
   "metadata": {},
   "source": [
    "### 현대 포트폴리오 이론을 통한 포트폴리오 최적화"
   ]
  },
  {
   "cell_type": "code",
   "execution_count": 7,
   "metadata": {},
   "outputs": [],
   "source": [
    "# Date 열을 제외하고 나머지 숫자 열들에 대해서만 일간 수익률을 계산\n",
    "returns = future_data.pct_change().dropna()"
   ]
  },
  {
   "cell_type": "code",
   "execution_count": 8,
   "metadata": {},
   "outputs": [
    {
     "name": "stdout",
     "output_type": "stream",
     "text": [
      "Mean Returns:\n",
      " Ticker\n",
      "ABBV    0.324078\n",
      "ABT     0.296850\n",
      "ACN     0.514393\n",
      "ADP     0.413794\n",
      "AEP     0.133791\n",
      "          ...   \n",
      "WELL    0.402868\n",
      "WFC     0.556865\n",
      "WM      0.399164\n",
      "WMB     0.346263\n",
      "XOM     0.488782\n",
      "Length: 91, dtype: float64\n",
      "Covariance Matrix:\n",
      " Ticker      ABBV       ABT       ACN       ADP       AEP       AME      ANET  \\\n",
      "Ticker                                                                         \n",
      "ABBV    0.040502  0.010270  0.011222  0.010397  0.006754  0.012689  0.017715   \n",
      "ABT     0.010270  0.045248  0.014058  0.007225  0.005502  0.007811  0.017012   \n",
      "ACN     0.011222  0.014058  0.038841  0.018909  0.007034  0.020239  0.020589   \n",
      "ADP     0.010397  0.007225  0.018909  0.035429  0.010237  0.017654  0.022233   \n",
      "AEP     0.006754  0.005502  0.007034  0.010237  0.027043  0.008178  0.003308   \n",
      "...          ...       ...       ...       ...       ...       ...       ...   \n",
      "WELL    0.009750  0.000636  0.017507  0.013777  0.013876  0.020146  0.008241   \n",
      "WFC     0.016636 -0.004692  0.021225  0.016007  0.005569  0.031242  0.007028   \n",
      "WM      0.011924  0.009088  0.015969  0.013723  0.012868  0.016728  0.008535   \n",
      "WMB     0.008883 -0.002737  0.010842  0.006659  0.003832  0.018416  0.012567   \n",
      "XOM     0.016487 -0.005571  0.013514  0.008962 -0.000583  0.022758  0.009283   \n",
      "\n",
      "Ticker       AON       AOS      AVGO  ...       UNH       UPS       URI  \\\n",
      "Ticker                                ...                                 \n",
      "ABBV    0.005492  0.015658  0.012851  ...  0.012314  0.012712  0.013691   \n",
      "ABT     0.009406  0.008589  0.019031  ...  0.010331  0.007498  0.003011   \n",
      "ACN     0.015186  0.024135  0.025229  ...  0.014635  0.015728  0.025319   \n",
      "ADP     0.009389  0.020458  0.023484  ...  0.013681  0.011114  0.020054   \n",
      "AEP     0.010304  0.008867  0.001640  ...  0.008687  0.003323  0.000289   \n",
      "...          ...       ...       ...  ...       ...       ...       ...   \n",
      "WELL    0.011974  0.021850  0.007418  ...  0.009863  0.008766  0.033097   \n",
      "WFC     0.015890  0.038305  0.010111  ...  0.014497  0.018870  0.065454   \n",
      "WM      0.012832  0.020622  0.004873  ...  0.015011  0.012342  0.018698   \n",
      "WMB     0.010630  0.020427  0.008038  ...  0.006495  0.012094  0.039629   \n",
      "XOM     0.017552  0.026260  0.010325  ...  0.009294  0.018698  0.056936   \n",
      "\n",
      "Ticker       VMC       WAB      WELL       WFC        WM       WMB       XOM  \n",
      "Ticker                                                                        \n",
      "ABBV    0.007464  0.009277  0.009750  0.016636  0.011924  0.008883  0.016487  \n",
      "ABT     0.004243 -0.000289  0.000636 -0.004692  0.009088 -0.002737 -0.005571  \n",
      "ACN     0.018012  0.020542  0.017507  0.021225  0.015969  0.010842  0.013514  \n",
      "ADP     0.015845  0.011794  0.013777  0.016007  0.013723  0.006659  0.008962  \n",
      "AEP     0.004438  0.001695  0.013876  0.005569  0.012868  0.003832 -0.000583  \n",
      "...          ...       ...       ...       ...       ...       ...       ...  \n",
      "WELL    0.024773  0.024175  0.071317  0.025856  0.012020  0.021355  0.022843  \n",
      "WFC     0.043281  0.050460  0.025856  0.113801  0.017653  0.033898  0.056983  \n",
      "WM      0.014105  0.013667  0.012020  0.017653  0.025656  0.008791  0.008739  \n",
      "WMB     0.023083  0.033904  0.021355  0.033898  0.008791  0.052239  0.049237  \n",
      "XOM     0.029547  0.040399  0.022843  0.056983  0.008739  0.049237  0.087441  \n",
      "\n",
      "[91 rows x 91 columns]\n"
     ]
    }
   ],
   "source": [
    "# 연간 수익률 계산\n",
    "mean_returns = returns.mean() * 252\n",
    "\n",
    "# 공분산 행렬 계산\n",
    "cov_matrix = returns.cov() * 252\n",
    "\n",
    "# 출력으로 확인\n",
    "print(\"Mean Returns:\\n\", mean_returns)\n",
    "print(\"Covariance Matrix:\\n\", cov_matrix)"
   ]
  },
  {
   "cell_type": "code",
   "execution_count": 9,
   "metadata": {},
   "outputs": [],
   "source": [
    "# 포트폴리오의 기대 수익률과 변동성을 계산하는 함수\n",
    "def portfolio_performance(weights, mean_returns, cov_matrix):\n",
    "    returns = np.dot(weights, mean_returns)\n",
    "    volatility = np.sqrt(np.dot(weights.T, np.dot(cov_matrix, weights)))\n",
    "    return returns, volatility"
   ]
  },
  {
   "cell_type": "code",
   "execution_count": 10,
   "metadata": {},
   "outputs": [],
   "source": [
    "# 제약 조건: 모든 가중치의 합은 1이어야 함\n",
    "def check_sum(weights):\n",
    "    return np.sum(weights) - 1"
   ]
  },
  {
   "cell_type": "code",
   "execution_count": 11,
   "metadata": {},
   "outputs": [],
   "source": [
    "# 초기 가중치 설정\n",
    "num_assets = len(mean_returns)\n",
    "args = (mean_returns, cov_matrix)\n",
    "constraints = ({'type': 'eq', 'fun': check_sum})\n",
    "bound = (0.0, 1.0)\n",
    "bounds = tuple(bound for asset in range(num_assets))"
   ]
  },
  {
   "cell_type": "code",
   "execution_count": 12,
   "metadata": {},
   "outputs": [],
   "source": [
    "# 샤프 비율 최대화 함수\n",
    "def negative_sharpe_ratio(weights, mean_returns, cov_matrix, risk_free_rate=0.01):\n",
    "    portfolio_return = np.dot(weights, mean_returns)\n",
    "    portfolio_volatility = np.sqrt(np.dot(weights.T, np.dot(cov_matrix, weights)))\n",
    "    sharpe_ratio = (portfolio_return - risk_free_rate) / portfolio_volatility\n",
    "    return -sharpe_ratio"
   ]
  },
  {
   "cell_type": "code",
   "execution_count": 13,
   "metadata": {},
   "outputs": [],
   "source": [
    "from scipy.optimize import minimize\n",
    "\n",
    "# 수학적 최적화를 통한 샤프 비율 최대화\n",
    "result = minimize(negative_sharpe_ratio, num_assets*[1./num_assets,], args=args,\n",
    "                  method='SLSQP', bounds=bounds, constraints=constraints) #가중치로 자산의 수(num_assets)만큼 균등하게 가중치를 배분\n",
    "\n",
    "optimal_weights = result.x"
   ]
  },
  {
   "cell_type": "code",
   "execution_count": 14,
   "metadata": {},
   "outputs": [],
   "source": [
    "# 최적 포트폴리오의 성능 계산\n",
    "opt_return, opt_volatility = portfolio_performance(optimal_weights, mean_returns, cov_matrix)\n",
    "opt_sharpe = (opt_return - 0.01) / opt_volatility"
   ]
  },
  {
   "cell_type": "code",
   "execution_count": 15,
   "metadata": {},
   "outputs": [],
   "source": [
    "# 효율적 프론티어 계산 및 시각화\n",
    "def minimize_volatility(weights):\n",
    "    return portfolio_performance(weights, mean_returns, cov_matrix)[1]"
   ]
  },
  {
   "cell_type": "code",
   "execution_count": 16,
   "metadata": {},
   "outputs": [
    {
     "data": {
      "image/png": "[encoded data removed]",
      "text/plain": [
       "<Figure size 1000x700 with 2 Axes>"
      ]
     },
     "metadata": {},
     "output_type": "display_data"
    }
   ],
   "source": [
    "import matplotlib.pyplot as plt\n",
    "\n",
    "# 효율적 프론티어 계산 및 시각화\n",
    "target_returns = np.linspace(opt_return * 0.7, opt_return * 1.3, 50)\n",
    "efficient_volatilities = []\n",
    "\n",
    "for target_return in target_returns:\n",
    "    constraints = ({'type': 'eq', 'fun': check_sum},\n",
    "                   {'type': 'eq', 'fun': lambda w: portfolio_performance(w, mean_returns, cov_matrix)[0] - target_return})\n",
    "    result = minimize(minimize_volatility, num_assets*[1./num_assets,], method='SLSQP', bounds=bounds, constraints=constraints)\n",
    "    efficient_volatilities.append(result['fun'])\n",
    "\n",
    "# 그래프 시각화\n",
    "plt.figure(figsize=(10, 7))\n",
    "plt.scatter(efficient_volatilities, target_returns, c=(np.array(target_returns)-0.01)/np.array(efficient_volatilities), cmap='viridis', marker='x')\n",
    "plt.plot(opt_volatility, opt_return, 'r*', markersize=15.0, label='Maximum Sharpe Ratio')\n",
    "plt.xlabel('Volatility (Standard Deviation)')\n",
    "plt.ylabel('Expected Return')\n",
    "plt.title('Efficient Frontier')\n",
    "plt.colorbar(label='Sharpe Ratio')\n",
    "plt.legend()\n",
    "plt.show()"
   ]
  },
  {
   "cell_type": "code",
   "execution_count": 17,
   "metadata": {},
   "outputs": [
    {
     "name": "stdout",
     "output_type": "stream",
     "text": [
      "\n",
      "Optimal Portfolio Weights:\n",
      "ABBV: 0.0036\n",
      "ABT: 0.0082\n",
      "ACN: 0.0000\n",
      "ADP: 0.0000\n",
      "AEP: 0.0000\n",
      "AME: 0.0000\n",
      "ANET: 0.0466\n",
      "AON: 0.0000\n",
      "AOS: 0.0000\n",
      "AVGO: 0.0000\n",
      "AVY: 0.0000\n",
      "AXP: 0.0000\n",
      "AZO: 0.0817\n",
      "BBY: 0.0000\n",
      "BDX: 0.0000\n",
      "BIIB: 0.0000\n",
      "BKNG: 0.0000\n",
      "CAG: 0.0000\n",
      "CB: 0.0000\n",
      "CCL: 0.0000\n",
      "CLX: 0.0000\n",
      "CMS: 0.0000\n",
      "CNP: 0.0000\n",
      "COR: 0.0000\n",
      "CTSH: 0.0000\n",
      "DGX: 0.1071\n",
      "DXCM: 0.0000\n",
      "EIX: 0.0000\n",
      "EPAM: 0.0129\n",
      "EQR: 0.0000\n",
      "ETSY: 0.0000\n",
      "EXR: 0.2025\n",
      "FE: 0.0195\n",
      "FITB: 0.0000\n",
      "FOXA: 0.0014\n",
      "FTNT: 0.0359\n",
      "FTV: 0.0000\n",
      "GEN: 0.0000\n",
      "GLW: 0.0000\n",
      "GM: 0.0000\n",
      "HBAN: 0.0000\n",
      "HCA: 0.0000\n",
      "HES: 0.0000\n",
      "INTU: 0.0170\n",
      "IQV: 0.0000\n",
      "IRM: 0.0949\n",
      "JKHY: 0.0000\n",
      "JPM: 0.0000\n",
      "K: 0.0000\n",
      "LVS: 0.0000\n",
      "MAA: 0.1066\n",
      "MCHP: 0.0000\n",
      "MCO: 0.0000\n",
      "MKTX: 0.0000\n",
      "MMC: 0.0004\n",
      "MNST: 0.0000\n",
      "MPC: 0.0450\n",
      "MRK: 0.0000\n",
      "MSCI: 0.0000\n",
      "MSFT: 0.0000\n",
      "MSI: 0.0000\n",
      "NDAQ: 0.0000\n",
      "NFLX: 0.0000\n",
      "NSC: 0.0000\n",
      "ODFL: 0.0228\n",
      "OKE: 0.0000\n",
      "OXY: 0.0064\n",
      "PANW: 0.0236\n",
      "PAYX: 0.0000\n",
      "PFG: 0.0000\n",
      "PSA: 0.0732\n",
      "PTC: 0.0000\n",
      "PYPL: 0.0000\n",
      "ROL: 0.0000\n",
      "ROP: 0.0000\n",
      "SBAC: 0.0000\n",
      "STLD: 0.0146\n",
      "STZ: 0.0000\n",
      "TMO: 0.0330\n",
      "TROW: 0.0000\n",
      "UHS: 0.0000\n",
      "UNH: 0.0000\n",
      "UPS: 0.0000\n",
      "URI: 0.0000\n",
      "VMC: 0.0000\n",
      "WAB: 0.0000\n",
      "WELL: 0.0000\n",
      "WFC: 0.0063\n",
      "WM: 0.0000\n",
      "WMB: 0.0000\n",
      "XOM: 0.0370\n"
     ]
    }
   ],
   "source": [
    "# 각 자산의 투자 비중 출력\n",
    "print(\"\\nOptimal Portfolio Weights:\")\n",
    "for ticker, weight in zip(future_data, optimal_weights):\n",
    "    print(f\"{ticker}: {weight:.4f}\")"
   ]
  },
  {
   "cell_type": "code",
   "execution_count": 18,
   "metadata": {},
   "outputs": [
    {
     "name": "stdout",
     "output_type": "stream",
     "text": [
      "Optimal Portfolio Performance:\n",
      "Expected Annual Return: 62.99%\n",
      "Annual Volatility: 12.44%\n",
      "Sharpe Ratio: 4.98\n"
     ]
    }
   ],
   "source": [
    "# 결과 출력\n",
    "print(\"Optimal Portfolio Performance:\")\n",
    "print(\"Expected Annual Return: {:.2f}%\".format(opt_return * 100))\n",
    "print(\"Annual Volatility: {:.2f}%\".format(opt_volatility * 100))\n",
    "print(\"Sharpe Ratio: {:.2f}\".format(opt_sharpe))"
   ]
  },
  {
   "cell_type": "markdown",
   "metadata": {},
   "source": [
    "# 결과"
   ]
  },
  {
   "cell_type": "markdown",
   "metadata": {},
   "source": [
    "### 1번 시나리오 ( 매출,eps 성장률 모두 high )\n",
    "* 2020년 수익률 : 111.88%\n",
    "* 2021년 수익률 : 62.98%"
   ]
  },
  {
   "cell_type": "markdown",
   "metadata": {},
   "source": [
    "### 2번 시나리오 (매출,eps 성장률 모두 low)\n",
    "* 2020년 수익률 : 70.91%\n",
    "* 2021년 수익률 : 52.79%"
   ]
  },
  {
   "cell_type": "markdown",
   "metadata": {},
   "source": [
    "매출 성장률과 eps 성장률이 낮으면 수익률도 낮아진다\n",
    "\n",
    "포트폴리오 최적화 적용 이전 수익률 차이 1% -> 최적화 적용후 수익률 차이 10%"
   ]
  }
 ],
 "metadata": {
  "kernelspec": {
   "display_name": "Python 3",
   "language": "python",
   "name": "python3"
  },
  "language_info": {
   "codemirror_mode": {
    "name": "ipython",
    "version": 3
   },
   "file_extension": ".py",
   "mimetype": "text/x-python",
   "name": "python",
   "nbconvert_exporter": "python",
   "pygments_lexer": "ipython3",
   "version": "3.10.2"
  }
 },
 "nbformat": 4,
 "nbformat_minor": 2
}
